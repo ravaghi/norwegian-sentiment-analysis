{
 "cells": [
  {
   "cell_type": "code",
   "execution_count": null,
   "metadata": {},
   "outputs": [],
   "source": [
    "import os\n",
    "import sys\n",
    "\n",
    "ROOT_DIR = os.path.abspath(os.path.join('..'))\n",
    "sys.path.append(ROOT_DIR)\n",
    "\n",
    "os.environ[\"WANDB_SILENT\"] = \"true\""
   ]
  },
  {
   "cell_type": "code",
   "execution_count": null,
   "metadata": {},
   "outputs": [],
   "source": [
    "from transformers import (\n",
    "    AutoTokenizer,\n",
    "    AutoModelForSequenceClassification,\n",
    "    TrainingArguments,\n",
    "    Trainer,\n",
    "    EarlyStoppingCallback\n",
    ")\n",
    "from sklearn.metrics import accuracy_score, roc_auc_score, f1_score\n",
    "from datasets import Dataset, DatasetDict\n",
    "import wandb\n",
    "\n",
    "from data.dataloader import NoReCDataLoader\n",
    "from utils.utils import init_run"
   ]
  },
  {
   "cell_type": "code",
   "execution_count": null,
   "metadata": {},
   "outputs": [],
   "source": [
    "MODEL_NAME =  \"ltg/norbert3-xs\"\n",
    "# MODEL_NAME =  \"ltg/norbert3-small\"\n",
    "# MODEL_NAME =  \"ltg/norbert3-base\"\n",
    "# MODEL_NAME =  \"ltg/norbert3-large\"\n",
    "\n",
    "# MODEL_NAME = \"NbAiLab/nb-bert-base\"\n",
    "# MODEL_NAME = \"NbAiLab/nb-bert-large\"\n",
    "\n",
    "# MODEL_NAME = \"bert-base-multilingual-cased\"\n",
    "\n",
    "config = init_run(config_name=\"bert\", run_name=\"Binary\" + MODEL_NAME)"
   ]
  },
  {
   "cell_type": "markdown",
   "metadata": {},
   "source": [
    "# Loading and processing data"
   ]
  },
  {
   "cell_type": "code",
   "execution_count": null,
   "metadata": {},
   "outputs": [],
   "source": [
    "train_df, val_df, test_df = NoReCDataLoader(**config.dataloader).load_binary_dataset()\n",
    "\n",
    "train_df = train_df[[\"text\", \"label\"]]\n",
    "val_df = val_df[[\"text\", \"label\"]]\n",
    "test_df = test_df[[\"text\", \"label\"]]\n",
    "\n",
    "train_dataset = Dataset.from_dict(train_df)\n",
    "val_dataset = Dataset.from_dict(val_df)\n",
    "test_dataset = Dataset.from_dict(test_df)\n",
    "\n",
    "norec_dataset = DatasetDict({\"train\": train_dataset, \"val\": val_dataset, \"test\": test_dataset})\n",
    "norec_dataset"
   ]
  },
  {
   "cell_type": "code",
   "execution_count": null,
   "metadata": {},
   "outputs": [],
   "source": [
    "tokenizer = AutoTokenizer.from_pretrained(MODEL_NAME)\n",
    "\n",
    "def preprocess_function(examples):\n",
    "    return tokenizer(examples[\"text\"], truncation=True, max_length=config.model.max_seq_length, padding=\"max_length\")\n",
    "\n",
    "norec_dataset = norec_dataset.map(preprocess_function, batched=True)"
   ]
  },
  {
   "cell_type": "markdown",
   "metadata": {},
   "source": [
    "# Modeling and Training"
   ]
  },
  {
   "cell_type": "code",
   "execution_count": null,
   "metadata": {},
   "outputs": [],
   "source": [
    "id2label = {0: \"negative\", 1: \"positive\"}\n",
    "label2id = {\"negative\": 0, \"positive\": 1}\n",
    "\n",
    "model = AutoModelForSequenceClassification.from_pretrained(\n",
    "    MODEL_NAME,\n",
    "    trust_remote_code=True,\n",
    "    num_labels=2,\n",
    "    id2label=id2label,\n",
    "    label2id=label2id\n",
    ")"
   ]
  },
  {
   "cell_type": "code",
   "execution_count": null,
   "metadata": {},
   "outputs": [],
   "source": [
    "def compute_metrics(pred):\n",
    "    labels = pred.label_ids\n",
    "    preds = pred.predictions.argmax(-1)\n",
    "\n",
    "    accuracy = accuracy_score(labels, preds)\n",
    "    auc = roc_auc_score(labels, preds)\n",
    "    f1 = f1_score(labels, preds)\n",
    "\n",
    "    return {\n",
    "        'accuracy': accuracy,\n",
    "        'auc': auc,\n",
    "        'f1_score': f1\n",
    "    }"
   ]
  },
  {
   "cell_type": "code",
   "execution_count": null,
   "metadata": {},
   "outputs": [],
   "source": [
    "training_args = TrainingArguments(\n",
    "    num_train_epochs=config.general.max_epochs,\n",
    "    per_device_train_batch_size=config.general.batch_size,\n",
    "    per_device_eval_batch_size=config.general.batch_size,\n",
    "    weight_decay=0.01,\n",
    "    logging_steps=250,\n",
    "    output_dir=config.general.log_dir,\n",
    "    fp16=False,\n",
    "    seed=config.general.seed,\n",
    "    data_seed=config.general.data_seed,\n",
    "    report_to=\"wandb\",\n",
    "    evaluation_strategy=\"steps\",\n",
    "    load_best_model_at_end = True,\n",
    "    eval_steps = 250,\n",
    "    metric_for_best_model = \"auc\",\n",
    ")\n",
    "\n",
    "trainer = Trainer(\n",
    "    model=model,\n",
    "    args=training_args,\n",
    "    tokenizer=tokenizer,\n",
    "    train_dataset=norec_dataset[\"train\"],\n",
    "    eval_dataset=norec_dataset[\"val\"],\n",
    "    compute_metrics=compute_metrics,\n",
    "    callbacks = [EarlyStoppingCallback(early_stopping_patience=3)]\n",
    ")\n",
    "\n",
    "trainer.train()\n",
    "trainer.evaluate()"
   ]
  },
  {
   "cell_type": "markdown",
   "metadata": {},
   "source": [
    "# Testing"
   ]
  },
  {
   "cell_type": "code",
   "execution_count": null,
   "metadata": {},
   "outputs": [],
   "source": [
    "predictions = trainer.predict(norec_dataset[\"test\"])\n",
    "\n",
    "y_test = norec_dataset[\"test\"]['label']\n",
    "y_preds = predictions.predictions.argmax(-1)\n",
    "\n",
    "auc = roc_auc_score(y_test, y_preds)\n",
    "accuracy = accuracy_score(y_test, y_preds)\n",
    "f1 = f1_score(y_test, y_preds)"
   ]
  },
  {
   "cell_type": "code",
   "execution_count": null,
   "metadata": {},
   "outputs": [],
   "source": [
    "wandb.run.summary['test_auc'] = auc\n",
    "wandb.run.summary['test_accuracy'] = accuracy\n",
    "wandb.run.summary['test_f1'] = f1\n",
    "wandb.log({\"confusion_matrix\": wandb.plot.confusion_matrix(\n",
    "    preds=y_preds.numpy(),\n",
    "    y_true=y_test.numpy(),\n",
    "    class_names=[\"negative\", \"positive\"]\n",
    ")})\n",
    "wandb.finish()"
   ]
  }
 ],
 "metadata": {
  "kernelspec": {
   "display_name": ".venv",
   "language": "python",
   "name": "python3"
  },
  "language_info": {
   "codemirror_mode": {
    "name": "ipython",
    "version": 3
   },
   "file_extension": ".py",
   "mimetype": "text/x-python",
   "name": "python",
   "nbconvert_exporter": "python",
   "pygments_lexer": "ipython3",
   "version": "3.10.12"
  }
 },
 "nbformat": 4,
 "nbformat_minor": 2
}
