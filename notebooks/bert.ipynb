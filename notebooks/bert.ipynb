{
 "cells": [
  {
   "cell_type": "code",
   "execution_count": null,
   "metadata": {},
   "outputs": [],
   "source": [
    "import os\n",
    "import sys\n",
    "\n",
    "ROOT_DIR = os.path.abspath(os.path.join('..'))\n",
    "sys.path.append(ROOT_DIR)\n",
    "\n",
    "os.environ[\"WANDB_SILENT\"] = \"true\""
   ]
  },
  {
   "cell_type": "code",
   "execution_count": null,
   "metadata": {},
   "outputs": [],
   "source": [
    "from lightning.pytorch.callbacks.early_stopping import EarlyStopping\n",
    "from lightning.pytorch.callbacks import LearningRateMonitor\n",
    "from lightning.pytorch.loggers import WandbLogger\n",
    "from transformers import AutoTokenizer\n",
    "import lightning as L\n",
    "import wandb\n",
    "\n",
    "from data.dataloader import NoReCDataLoader\n",
    "from dataloaders.bert import NoReCDataModule\n",
    "from models.bert import BERT\n",
    "from utils.utils import init_run"
   ]
  },
  {
   "cell_type": "code",
   "execution_count": null,
   "metadata": {},
   "outputs": [],
   "source": [
    "task = \"binary\"\n",
    "# task = \"multiclass\"\n",
    "\n",
    "MODEL_NAME =  \"ltg/norbert3-xs\"\n",
    "# MODEL_NAME =  \"ltg/norbert3-small\"\n",
    "# MODEL_NAME =  \"ltg/norbert3-base\""
   ]
  },
  {
   "cell_type": "code",
   "execution_count": null,
   "metadata": {},
   "outputs": [],
   "source": [
    "if task == \"binary\":\n",
    "    config = init_run(config_name=\"binary_bert\", run_name=\"Binary-\" + MODEL_NAME)\n",
    "else:\n",
    "    config = init_run(config_name=\"multiclass_bert\", run_name=\"Multiclass-\" + MODEL_NAME)"
   ]
  },
  {
   "cell_type": "markdown",
   "metadata": {},
   "source": [
    "# Loading and processing data"
   ]
  },
  {
   "cell_type": "code",
   "execution_count": null,
   "metadata": {},
   "outputs": [],
   "source": [
    "if task == \"binary\":\n",
    "    train_df, val_df, test_df = NoReCDataLoader(**config.dataloader).load_binary_dataset()\n",
    "else:\n",
    "    train_df, val_df, test_df = NoReCDataLoader(**config.dataloader).load_multiclass_dataset()\n",
    "\n",
    "train_df = train_df[[\"text\", \"label\"]]\n",
    "val_df = val_df[[\"text\", \"label\"]]\n",
    "test_df = test_df[[\"text\", \"label\"]]"
   ]
  },
  {
   "cell_type": "code",
   "execution_count": null,
   "metadata": {},
   "outputs": [],
   "source": [
    "tokenizer = AutoTokenizer.from_pretrained(MODEL_NAME)"
   ]
  },
  {
   "cell_type": "code",
   "execution_count": null,
   "metadata": {},
   "outputs": [],
   "source": [
    "data_module = NoReCDataModule(\n",
    "    train_df=train_df,\n",
    "    val_df=val_df,\n",
    "    test_df=test_df,\n",
    "    batch_size=config.general.batch_size,\n",
    "    tokenizer=tokenizer,\n",
    "    max_seq_len=config.model.max_seq_len,\n",
    "    n_classes=config.model.n_classes\n",
    ")"
   ]
  },
  {
   "cell_type": "markdown",
   "metadata": {},
   "source": [
    "# Modeling and Training"
   ]
  },
  {
   "cell_type": "code",
   "execution_count": null,
   "metadata": {},
   "outputs": [],
   "source": [
    "model = BERT(\n",
    "    model_name=MODEL_NAME,\n",
    "    learning_rate=config.general.learning_rate,\n",
    "    max_epochs=config.general.max_epochs,\n",
    "    n_classes=config.model.n_classes\n",
    ")"
   ]
  },
  {
   "cell_type": "code",
   "execution_count": null,
   "metadata": {},
   "outputs": [],
   "source": [
    "early_stopping = EarlyStopping(monitor=\"val_auc\", patience=3, mode=\"max\", verbose=True, check_on_train_epoch_end=True)\n",
    "lr_monitor = LearningRateMonitor(logging_interval='step')\n",
    "\n",
    "trainer = L.Trainer(\n",
    "    max_epochs=config.general.max_epochs,\n",
    "    logger=WandbLogger(save_dir=config.general.log_dir),\n",
    "    callbacks=[early_stopping, lr_monitor]\n",
    ")"
   ]
  },
  {
   "cell_type": "code",
   "execution_count": null,
   "metadata": {},
   "outputs": [],
   "source": [
    "trainer.fit(model, data_module)\n",
    "trainer.validate(model, data_module)\n",
    "trainer.test(model, data_module)\n",
    "wandb.finish()"
   ]
  },
  {
   "cell_type": "code",
   "execution_count": null,
   "metadata": {},
   "outputs": [],
   "source": []
  }
 ],
 "metadata": {
  "kernelspec": {
   "display_name": ".venv",
   "language": "python",
   "name": "python3"
  },
  "language_info": {
   "codemirror_mode": {
    "name": "ipython",
    "version": 3
   },
   "file_extension": ".py",
   "mimetype": "text/x-python",
   "name": "python",
   "nbconvert_exporter": "python",
   "pygments_lexer": "ipython3",
   "version": "3.10.12"
  }
 },
 "nbformat": 4,
 "nbformat_minor": 2
}
