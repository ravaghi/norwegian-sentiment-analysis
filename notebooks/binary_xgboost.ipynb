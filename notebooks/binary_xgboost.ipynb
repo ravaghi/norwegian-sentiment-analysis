{
 "cells": [
  {
   "cell_type": "code",
   "execution_count": null,
   "metadata": {},
   "outputs": [],
   "source": [
    "import os\n",
    "import sys\n",
    "\n",
    "ROOT_DIR = os.path.abspath(os.path.join('..'))\n",
    "sys.path.append(ROOT_DIR)\n",
    "\n",
    "os.environ[\"WANDB_SILENT\"] = \"true\""
   ]
  },
  {
   "cell_type": "code",
   "execution_count": null,
   "metadata": {},
   "outputs": [],
   "source": [
    "from sklearn.feature_extraction.text import TfidfVectorizer\n",
    "from wandb.xgboost import WandbCallback\n",
    "import sklearn.metrics as metrics\n",
    "import xgboost as xgb\n",
    "import wandb\n",
    "\n",
    "from data.dataloader import NoReCDataLoader\n",
    "from data.preprocessor import NoReCDataPreprocessor\n",
    "from utils.utils import init_run"
   ]
  },
  {
   "cell_type": "code",
   "execution_count": null,
   "metadata": {},
   "outputs": [],
   "source": [
    "config = init_run(config_name=\"binary_xgboost\", run_name=\"Binary-XGBoost\")"
   ]
  },
  {
   "cell_type": "markdown",
   "metadata": {},
   "source": [
    "# Loading and processing data"
   ]
  },
  {
   "cell_type": "code",
   "execution_count": null,
   "metadata": {},
   "outputs": [],
   "source": [
    "train_df, val_df, test_df = NoReCDataLoader(**config.dataloader).load_binary_dataset()\n",
    "\n",
    "preprocessor = NoReCDataPreprocessor()\n",
    "\n",
    "train_df = preprocessor.sanitize(train_df, \"train\")\n",
    "val_df = preprocessor.sanitize(val_df, \"val\")\n",
    "test_df = preprocessor.sanitize(test_df, \"test\")\n",
    "\n",
    "train_df[\"label\"] = train_df[\"label\"].astype(int)\n",
    "val_df[\"label\"] = val_df[\"label\"].astype(int)\n",
    "test_df[\"label\"] = test_df[\"label\"].astype(int)"
   ]
  },
  {
   "cell_type": "code",
   "execution_count": null,
   "metadata": {},
   "outputs": [],
   "source": [
    "vectorizer = TfidfVectorizer(**config.vectorizer)\n",
    "feature_vectorizer = vectorizer.fit(train_df['text'])\n",
    "print(\"Number of features: \", len(feature_vectorizer.get_feature_names_out()))\n",
    "\n",
    "x_train = feature_vectorizer.transform(train_df['text'])\n",
    "x_val = feature_vectorizer.transform(val_df['text'])\n",
    "x_test = feature_vectorizer.transform(test_df['text'])\n",
    "\n",
    "y_train = train_df['label']\n",
    "y_val = val_df['label']\n",
    "y_test = test_df['label']\n",
    "\n",
    "print(\"Train shape: \", x_train.shape)\n",
    "print(\"Val shape: \", x_val.shape)\n",
    "print(\"Test shape: \", x_test.shape)"
   ]
  },
  {
   "cell_type": "markdown",
   "metadata": {},
   "source": [
    "# Modeling and Training"
   ]
  },
  {
   "cell_type": "code",
   "execution_count": null,
   "metadata": {},
   "outputs": [],
   "source": [
    "model = xgb.XGBClassifier(\n",
    "    **config.model,\n",
    "    objective=\"binary:logistic\",\n",
    "    eval_metric=[\"logloss\", \"auc\", \"error\"],\n",
    "    callbacks=[WandbCallback(log_model=False)]\n",
    ")\n",
    "model.fit(\n",
    "    x_train,\n",
    "    y_train,\n",
    "    eval_set=[(x_train, y_train), (x_val, y_val)]\n",
    ")"
   ]
  },
  {
   "cell_type": "markdown",
   "metadata": {},
   "source": [
    "# Testing"
   ]
  },
  {
   "cell_type": "code",
   "execution_count": null,
   "metadata": {},
   "outputs": [],
   "source": [
    "y_preds = model.predict(x_test)    \n",
    "y_test = y_test.to_numpy()\n",
    "\n",
    "auc = metrics.roc_auc_score(y_test, y_preds)\n",
    "accuracy = metrics.accuracy_score(y_test, y_preds)\n",
    "f1 = metrics.f1_score(y_test, y_preds)\n",
    "\n",
    "print('AUC: %.4f' % auc)   \n",
    "print('Accuracy: %.4f' % accuracy)\n",
    "print('F1: %.4f' % f1)"
   ]
  },
  {
   "cell_type": "code",
   "execution_count": null,
   "metadata": {},
   "outputs": [],
   "source": [
    "wandb.run.summary['test_auc'] = auc\n",
    "wandb.run.summary['test_accuracy'] = accuracy\n",
    "wandb.run.summary['test_f1'] = f1\n",
    "wandb.log({\"confusion_matrix\": wandb.plot.confusion_matrix(\n",
    "    preds=y_preds,\n",
    "    y_true=y_test,\n",
    "    class_names=[\"negative\", \"positive\"]\n",
    ")})\n",
    "wandb.finish()"
   ]
  }
 ],
 "metadata": {
  "kernelspec": {
   "display_name": ".venv",
   "language": "python",
   "name": "python3"
  },
  "language_info": {
   "codemirror_mode": {
    "name": "ipython",
    "version": 3
   },
   "file_extension": ".py",
   "mimetype": "text/x-python",
   "name": "python",
   "nbconvert_exporter": "python",
   "pygments_lexer": "ipython3",
   "version": "3.10.12"
  }
 },
 "nbformat": 4,
 "nbformat_minor": 2
}
